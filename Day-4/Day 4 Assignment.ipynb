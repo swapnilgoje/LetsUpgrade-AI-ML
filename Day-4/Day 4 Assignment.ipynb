{
 "cells": [
  {
   "cell_type": "code",
   "execution_count": 6,
   "metadata": {},
   "outputs": [
    {
     "name": "stdout",
     "output_type": "stream",
     "text": [
      "Addition is:  (11+7j)\n",
      "Substraction is:  (-1-3j)\n",
      "Multilication is:  (20+37j)\n",
      "Division is:  (0.6557377049180327-0.21311475409836067j)\n"
     ]
    }
   ],
   "source": [
    "a = 5+2j\n",
    "b = 6+5j\n",
    "\n",
    "c = a+b\n",
    "print(\"Addition is: \",c)\n",
    "\n",
    "c = a-b\n",
    "print(\"Substraction is: \",c)\n",
    "\n",
    "c = a*b\n",
    "print(\"Multilication is: \",c)\n",
    "\n",
    "c = a/b\n",
    "print(\"Division is: \",c)\n",
    "\n",
    "#c = a//b Error for this operation\n",
    "#print(c)\n",
    "\n",
    "#c = a%b Error for this operation\n",
    "#print(c)\n"
   ]
  },
  {
   "cell_type": "markdown",
   "metadata": {},
   "source": [
    "The range returns the range of numbers. defualt value is 0 for start and 1 is the default value for incremental. The stop specifes the last range.\n",
    "\n",
    "General syntax\n",
    "range(start, stop, step)\n",
    "\n",
    "We can also decrement in reverse order with step value -1\n",
    "start and step are optional , but stop is required.\n",
    "\n",
    "\n",
    "num = range(30,0,-1)\n",
    "for i in num:\n",
    "    print(i)"
   ]
  },
  {
   "cell_type": "code",
   "execution_count": 9,
   "metadata": {},
   "outputs": [
    {
     "name": "stdout",
     "output_type": "stream",
     "text": [
      "30\n",
      "29\n",
      "28\n",
      "27\n",
      "26\n",
      "25\n",
      "24\n",
      "23\n",
      "22\n",
      "21\n",
      "20\n",
      "19\n",
      "18\n",
      "17\n",
      "16\n",
      "15\n",
      "14\n",
      "13\n",
      "12\n",
      "11\n",
      "10\n",
      "9\n",
      "8\n",
      "7\n",
      "6\n",
      "5\n",
      "4\n",
      "3\n",
      "2\n",
      "1\n"
     ]
    }
   ],
   "source": [
    "num = range(30,0,-1)\n",
    "for i in num:\n",
    "    print(i)"
   ]
  },
  {
   "cell_type": "code",
   "execution_count": 12,
   "metadata": {},
   "outputs": [
    {
     "name": "stdout",
     "output_type": "stream",
     "text": [
      "Multiplication is:  2500\n"
     ]
    }
   ],
   "source": [
    "a = 100\n",
    "b = 25\n",
    "\n",
    "if a-b>25:\n",
    "    print(\"Multiplication is: \", a*b)\n",
    "else:\n",
    "    print(\"Division is: \",a//b)"
   ]
  },
  {
   "cell_type": "code",
   "execution_count": 14,
   "metadata": {},
   "outputs": [
    {
     "name": "stdout",
     "output_type": "stream",
     "text": [
      "22  square of that number minus 2\n",
      "2  square of that number minus 2\n",
      "54  square of that number minus 2\n",
      "24  square of that number minus 2\n"
     ]
    }
   ],
   "source": [
    "list1 = [3,22,23,5,2,54,35,67,71,24]\n",
    "for i in list1:\n",
    "    if(i%2==0):\n",
    "        print(i,\" square of that number minus 2\")"
   ]
  },
  {
   "cell_type": "code",
   "execution_count": 15,
   "metadata": {},
   "outputs": [
    {
     "name": "stdout",
     "output_type": "stream",
     "text": [
      "22\n",
      "23\n",
      "54\n",
      "35\n",
      "67\n",
      "71\n",
      "24\n"
     ]
    }
   ],
   "source": [
    "list1 = [3,22,23,5,2,54,35,67,71,24]\n",
    "for i in list1:\n",
    "    if((i//2)>7):\n",
    "        print(i)"
   ]
  },
  {
   "cell_type": "code",
   "execution_count": null,
   "metadata": {},
   "outputs": [],
   "source": []
  }
 ],
 "metadata": {
  "kernelspec": {
   "display_name": "Python 3",
   "language": "python",
   "name": "python3"
  },
  "language_info": {
   "codemirror_mode": {
    "name": "ipython",
    "version": 3
   },
   "file_extension": ".py",
   "mimetype": "text/x-python",
   "name": "python",
   "nbconvert_exporter": "python",
   "pygments_lexer": "ipython3",
   "version": "3.7.6"
  }
 },
 "nbformat": 4,
 "nbformat_minor": 4
}
