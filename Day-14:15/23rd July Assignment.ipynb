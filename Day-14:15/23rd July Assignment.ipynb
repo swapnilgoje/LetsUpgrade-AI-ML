{
 "cells": [
  {
   "cell_type": "markdown",
   "metadata": {},
   "source": [
    "# 1. Create a 3x3x3 array with random values "
   ]
  },
  {
   "cell_type": "code",
   "execution_count": 32,
   "metadata": {},
   "outputs": [
    {
     "name": "stdout",
     "output_type": "stream",
     "text": [
      "[[[0.5973041  0.66358865 0.04168166]\n",
      "  [0.23461563 0.40629358 0.92068675]\n",
      "  [0.12596195 0.85784801 0.44408542]]\n",
      "\n",
      " [[0.81888537 0.63297079 0.0071764 ]\n",
      "  [0.19157641 0.15492007 0.07710485]\n",
      "  [0.80019503 0.30314259 0.38375815]]\n",
      "\n",
      " [[0.54502077 0.0545778  0.46755302]\n",
      "  [0.04875045 0.36729684 0.96426053]\n",
      "  [0.81118348 0.14783742 0.25702518]]]\n"
     ]
    }
   ],
   "source": [
    "import numpy as np\n",
    "A = np.random.random((3,3,3))\n",
    "print(A)"
   ]
  },
  {
   "cell_type": "markdown",
   "metadata": {},
   "source": [
    "# 2.Create a 5x5 matrix with values 1,2,3,4 just below the diagonal"
   ]
  },
  {
   "cell_type": "code",
   "execution_count": 36,
   "metadata": {},
   "outputs": [
    {
     "name": "stdout",
     "output_type": "stream",
     "text": [
      "[[1 0 0 0]\n",
      " [0 2 0 0]\n",
      " [0 0 3 0]\n",
      " [0 0 0 4]]\n"
     ]
    }
   ],
   "source": [
    "import numpy as np\n",
    "A = np.diag([1, 2, 3, 4])\n",
    "print(A)"
   ]
  },
  {
   "cell_type": "markdown",
   "metadata": {},
   "source": [
    "# 3.Create a 8x8 matrix and fill it with a checkerboard pattern"
   ]
  },
  {
   "cell_type": "code",
   "execution_count": 37,
   "metadata": {},
   "outputs": [
    {
     "name": "stdout",
     "output_type": "stream",
     "text": [
      "[[0 1 0 1 0 1 0 1]\n",
      " [1 0 1 0 1 0 1 0]\n",
      " [0 1 0 1 0 1 0 1]\n",
      " [1 0 1 0 1 0 1 0]\n",
      " [0 1 0 1 0 1 0 1]\n",
      " [1 0 1 0 1 0 1 0]\n",
      " [0 1 0 1 0 1 0 1]\n",
      " [1 0 1 0 1 0 1 0]]\n"
     ]
    }
   ],
   "source": [
    "import numpy as np\n",
    "A = np.ones((3,3))\n",
    "A = np.zeros((8,8),dtype=int)\n",
    "A[1::2,::2] = 1\n",
    "A[::2,1::2] = 1\n",
    "print(A)"
   ]
  },
  {
   "cell_type": "markdown",
   "metadata": {},
   "source": [
    "# 4. Normalize a 5x5 random matrix"
   ]
  },
  {
   "cell_type": "code",
   "execution_count": 38,
   "metadata": {},
   "outputs": [
    {
     "name": "stdout",
     "output_type": "stream",
     "text": [
      "Original Array:\n",
      "[[0.74226807 0.89648103 0.27808906]\n",
      " [0.52575435 0.76252475 0.20028284]\n",
      " [0.42763161 0.13042666 0.76616958]]\n",
      "After normalization:\n",
      "[[0.79869189 1.         0.19275707]\n",
      " [0.51605695 0.82513476 0.09118957]\n",
      " [0.38796848 0.         0.82989269]]\n"
     ]
    }
   ],
   "source": [
    "import numpy as np\n",
    "A= np.random.random((3,3))\n",
    "print(\"Original Array:\")\n",
    "print(A)\n",
    "xmax, xmin = A.max(), A.min()\n",
    "A = (A - xmin)/(xmax - xmin)\n",
    "print(\"After normalization:\")\n",
    "print(A)"
   ]
  },
  {
   "cell_type": "markdown",
   "metadata": {},
   "source": [
    "# 5.  How to find common values between two arrays?"
   ]
  },
  {
   "cell_type": "code",
   "execution_count": 5,
   "metadata": {},
   "outputs": [
    {
     "name": "stdout",
     "output_type": "stream",
     "text": [
      "Array1:  [ 0 10 20 40 60]\n",
      "Array2:  [10, 30, 40]\n",
      "Common values between two arrays:\n",
      "[10 40]\n"
     ]
    }
   ],
   "source": [
    "import numpy as np\n",
    "array1 = np.array([0, 10, 20, 40, 60])\n",
    "print(\"Array1: \",array1)\n",
    "array2 = [10, 30, 40]\n",
    "print(\"Array2: \",array2)\n",
    "print(\"Common values between two arrays:\")\n",
    "print(np.intersect1d(array1, array2))"
   ]
  },
  {
   "cell_type": "markdown",
   "metadata": {},
   "source": [
    "# 6.How to get the dates of yesterday, today and tomorrow?"
   ]
  },
  {
   "cell_type": "code",
   "execution_count": 6,
   "metadata": {},
   "outputs": [
    {
     "name": "stdout",
     "output_type": "stream",
     "text": [
      "Yestraday:  2020-07-24\n",
      "Today:  2020-07-25\n",
      "Tomorrow:  2020-07-26\n"
     ]
    }
   ],
   "source": [
    "import numpy as np\n",
    "yesterday = np.datetime64('today', 'D') - np.timedelta64(1, 'D')\n",
    "print(\"Yestraday: \",yesterday)\n",
    "today = np.datetime64('today', 'D')\n",
    "print(\"Today: \",today)\n",
    "tomorrow = np.datetime64('today', 'D') + np.timedelta64(1, 'D')\n",
    "print(\"Tomorrow: \",tomorrow)"
   ]
  },
  {
   "cell_type": "markdown",
   "metadata": {},
   "source": [
    "# 7. Consider two random array A and B, check if they are equal"
   ]
  },
  {
   "cell_type": "code",
   "execution_count": 7,
   "metadata": {},
   "outputs": [
    {
     "name": "stdout",
     "output_type": "stream",
     "text": [
      "First array:\n",
      "[0 0 0 1 1 0]\n",
      "Second array:\n",
      "[0 0 0 1 0 0]\n",
      "Test above two arrays are equal or not!\n",
      "False\n"
     ]
    }
   ],
   "source": [
    "import numpy as np\n",
    "x = np.random.randint(0,2,6)\n",
    "print(\"First array:\")\n",
    "print(x)\n",
    "y = np.random.randint(0,2,6)\n",
    "print(\"Second array:\")\n",
    "print(y)\n",
    "print(\"Test above two arrays are equal or not!\")\n",
    "array_equal = np.allclose(x, y)\n",
    "print(array_equal)"
   ]
  },
  {
   "cell_type": "markdown",
   "metadata": {},
   "source": [
    "# 8.Create random vector of size 10 and replace the maximum value by 0 "
   ]
  },
  {
   "cell_type": "code",
   "execution_count": 9,
   "metadata": {},
   "outputs": [
    {
     "name": "stdout",
     "output_type": "stream",
     "text": [
      "Original array:\n",
      "[0.33324859 0.79189197 0.49166725 0.95646959 0.47611317 0.8032014\n",
      " 0.73808832 0.04619673 0.73524446 0.06811733]\n",
      "Maximum value replaced by 0:\n",
      "[0.33324859 0.79189197 0.49166725 0.         0.47611317 0.8032014\n",
      " 0.73808832 0.04619673 0.73524446 0.06811733]\n"
     ]
    }
   ],
   "source": [
    "import numpy as np\n",
    "x = np.random.random(10)\n",
    "print(\"Original array:\")\n",
    "print(x)\n",
    "x[x.argmax()] = 0\n",
    "print(\"Maximum value replaced by 0:\")\n",
    "print(x)"
   ]
  },
  {
   "cell_type": "markdown",
   "metadata": {},
   "source": [
    "# 9. How to print all the values of an array?"
   ]
  },
  {
   "cell_type": "code",
   "execution_count": 11,
   "metadata": {},
   "outputs": [
    {
     "name": "stdout",
     "output_type": "stream",
     "text": [
      "[[0. 0. 0. 0.]\n",
      " [0. 0. 0. 0.]\n",
      " [0. 0. 0. 0.]\n",
      " [0. 0. 0. 0.]]\n"
     ]
    }
   ],
   "source": [
    "import numpy as np\n",
    "x = np.zeros((4, 4))\n",
    "print(x)"
   ]
  },
  {
   "cell_type": "markdown",
   "metadata": {},
   "source": [
    "# 10.Subtract the mean of each row of a matrix"
   ]
  },
  {
   "cell_type": "code",
   "execution_count": 12,
   "metadata": {},
   "outputs": [
    {
     "name": "stdout",
     "output_type": "stream",
     "text": [
      "Original matrix:\n",
      "\n",
      "[[0.33333084 0.56537816 0.47296493 0.88011168 0.05014945 0.50975429\n",
      "  0.44842809 0.04525576 0.10274592 0.79997945]\n",
      " [0.44357971 0.74375896 0.27802475 0.03091768 0.2667871  0.55105675\n",
      "  0.18026904 0.682537   0.53505813 0.51845121]\n",
      " [0.02949929 0.09703889 0.92134806 0.23757338 0.45947191 0.83352805\n",
      "  0.33879694 0.35451551 0.08401488 0.03535116]\n",
      " [0.98547505 0.31036999 0.35913153 0.28304805 0.24498656 0.226378\n",
      "  0.10564702 0.7348666  0.55737262 0.20769547]\n",
      " [0.38308066 0.13570696 0.49609954 0.78563739 0.3305499  0.26656969\n",
      "  0.44962776 0.54824853 0.89676398 0.46353719]]\n",
      "\n",
      "Subtract the mean of each row of the said matrix:\n",
      "\n",
      "[[-8.74790185e-02  1.44568305e-01  5.21550713e-02  4.59301821e-01\n",
      "  -3.70660410e-01  8.89444374e-02  2.76182297e-02 -3.75554093e-01\n",
      "  -3.18063940e-01  3.79169598e-01]\n",
      " [ 2.05356766e-02  3.20714925e-01 -1.45019286e-01 -3.92126352e-01\n",
      "  -1.56256930e-01  1.28012719e-01 -2.42774991e-01  2.59492964e-01\n",
      "   1.12014094e-01  9.54071807e-02]\n",
      " [-3.09614522e-01 -2.42074921e-01  5.82234254e-01 -1.01540427e-01\n",
      "   1.20358102e-01  4.94414246e-01 -3.16865759e-04  1.54017014e-02\n",
      "  -2.55098925e-01 -3.03762642e-01]\n",
      " [ 5.83977958e-01 -9.11270991e-02 -4.23655558e-02 -1.18449041e-01\n",
      "  -1.56510532e-01 -1.75119084e-01 -2.95850072e-01  3.33369512e-01\n",
      "   1.55875528e-01 -1.93801613e-01]\n",
      " [-9.25014993e-02 -3.39875199e-01  2.05173801e-02  3.10055225e-01\n",
      "  -1.45032257e-01 -2.09012469e-01 -2.59543977e-02  7.26663676e-02\n",
      "   4.21181821e-01 -1.20449709e-02]]\n"
     ]
    }
   ],
   "source": [
    "import numpy as np\n",
    "print(\"Original matrix:\\n\")\n",
    "X = np.random.rand(5, 10)\n",
    "print(X)\n",
    "print(\"\\nSubtract the mean of each row of the said matrix:\\n\")\n",
    "Y = X - X.mean(axis=1, keepdims=True)\n",
    "print(Y)"
   ]
  },
  {
   "cell_type": "markdown",
   "metadata": {},
   "source": [
    "# 11.Consider a given vector, how to add 1 to each element indexed by a second vector (be careful with repeated indices)? "
   ]
  },
  {
   "cell_type": "code",
   "execution_count": 13,
   "metadata": {},
   "outputs": [
    {
     "name": "stdout",
     "output_type": "stream",
     "text": [
      "[3. 4. 5. 1. 1. 4. 5. 2. 3. 2.]\n"
     ]
    }
   ],
   "source": [
    "Z = np.ones(10)\n",
    "I = np.random.randint(0,len(Z),20)\n",
    "Z += np.bincount(I, minlength=len(Z))\n",
    "print(Z)"
   ]
  },
  {
   "cell_type": "code",
   "execution_count": null,
   "metadata": {},
   "outputs": [],
   "source": []
  },
  {
   "cell_type": "markdown",
   "metadata": {},
   "source": [
    "# 12.How to get the diagonal of a dot product?"
   ]
  },
  {
   "cell_type": "code",
   "execution_count": 21,
   "metadata": {},
   "outputs": [
    {
     "name": "stdout",
     "output_type": "stream",
     "text": [
      "[[1 2 0 9]\n",
      " [6 4 4 5]\n",
      " [1 7 8 1]\n",
      " [2 6 9 5]]\n",
      "[[3 3 2 8]\n",
      " [9 2 8 2]\n",
      " [0 2 3 8]\n",
      " [6 6 7 7]]\n"
     ]
    },
    {
     "data": {
      "text/plain": [
       "array([ 75,  64,  89, 135])"
      ]
     },
     "execution_count": 21,
     "metadata": {},
     "output_type": "execute_result"
    }
   ],
   "source": [
    "A = np.random.randint(0,10,(4,4))\n",
    "B= np.random.randint(0,10,(4,4))\n",
    "\n",
    "print(A)\n",
    "print(B)\n",
    "np.diag(np.dot(A, B))\n",
    "\n"
   ]
  },
  {
   "cell_type": "markdown",
   "metadata": {},
   "source": [
    "# 13.How to find the most frequent value in an array?"
   ]
  },
  {
   "cell_type": "code",
   "execution_count": 26,
   "metadata": {},
   "outputs": [
    {
     "name": "stdout",
     "output_type": "stream",
     "text": [
      "[8 0 3 0 6 5 5 9 0 2 2 7 3 8 6 2 5 7 8 0 0 7 6 1 7 1 5 1 2 7 5 2 0 8 5 9 8\n",
      " 3 3 4 7 8 4 0 4]\n",
      "Rank: 0\n"
     ]
    }
   ],
   "source": [
    "A = np.random.randint(0,10,45)\n",
    "print (A)\n",
    "print('Rank:', np.bincount(A).argmax())"
   ]
  },
  {
   "cell_type": "markdown",
   "metadata": {},
   "source": [
    "# 14.How to get the n largest values of an array"
   ]
  },
  {
   "cell_type": "code",
   "execution_count": 27,
   "metadata": {},
   "outputs": [
    {
     "name": "stdout",
     "output_type": "stream",
     "text": [
      "[19995 19996 19997 19998 19999]\n"
     ]
    }
   ],
   "source": [
    "A = np.arange(20000)\n",
    "np.random.shuffle(A)\n",
    "n = 5\n",
    "\n",
    "print (A[np.argsort(A)[-n:]])"
   ]
  },
  {
   "cell_type": "markdown",
   "metadata": {},
   "source": [
    "# 15.How to create a record array from a regular array?"
   ]
  },
  {
   "cell_type": "code",
   "execution_count": 31,
   "metadata": {},
   "outputs": [
    {
     "name": "stdout",
     "output_type": "stream",
     "text": [
      "[(b'LOVE1', 2.5, 3) (b'PYTHON', 3.6, 2)]\n"
     ]
    }
   ],
   "source": [
    "A = np.array([(\"LOVE1\", 2.5, 3),\n",
    "              (\"PYTHON\", 3.6, 2)])\n",
    "B = np.core.records.fromarrays(A.T,\n",
    "                               names='col1, col2, col3',\n",
    "                               formats = 'S8, f8, i8')\n",
    "\n",
    "print(B)\n"
   ]
  },
  {
   "cell_type": "code",
   "execution_count": null,
   "metadata": {},
   "outputs": [],
   "source": []
  }
 ],
 "metadata": {
  "kernelspec": {
   "display_name": "Python 3",
   "language": "python",
   "name": "python3"
  },
  "language_info": {
   "codemirror_mode": {
    "name": "ipython",
    "version": 3
   },
   "file_extension": ".py",
   "mimetype": "text/x-python",
   "name": "python",
   "nbconvert_exporter": "python",
   "pygments_lexer": "ipython3",
   "version": "3.7.6"
  }
 },
 "nbformat": 4,
 "nbformat_minor": 2
}
